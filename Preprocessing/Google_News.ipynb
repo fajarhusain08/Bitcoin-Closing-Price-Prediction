{
 "cells": [
  {
   "cell_type": "code",
   "execution_count": 1,
   "id": "affiliated-population",
   "metadata": {},
   "outputs": [],
   "source": [
    "import pandas as pd\n",
    "import flair\n",
    "from textblob import TextBlob\n",
    "import os\n",
    "import datetime\n",
    "import numpy as np\n",
    "from nltk.sentiment.vader import SentimentIntensityAnalyzer\n",
    "fmt = '%m/%d/%Y'"
   ]
  },
  {
   "cell_type": "code",
   "execution_count": 3,
   "id": "passive-hygiene",
   "metadata": {},
   "outputs": [],
   "source": [
    "def add_to_dict(final_dict, input_dict):\n",
    "    for item in final_dict:\n",
    "        input_dict_val = input_dict.get(item, 0)\n",
    "        final_dict[item] += input_dict_val"
   ]
  },
  {
   "cell_type": "code",
   "execution_count": 4,
   "id": "expired-share",
   "metadata": {},
   "outputs": [],
   "source": [
    "def devide_dict_by_scaler(in_dict, val):\n",
    "    for item in in_dict:\n",
    "        in_dict[item] /= val"
   ]
  },
  {
   "cell_type": "code",
   "execution_count": 5,
   "id": "guilty-latex",
   "metadata": {},
   "outputs": [],
   "source": [
    "def get_sentiment_report(input_filename, output_filename, start_date='08/01/2021', simulate=False):\n",
    "    data_df = pd.read_csv(input_filename, index_col='date')\n",
    "    col = data_df.columns\n",
    "\n",
    "    temp_c = 0\n",
    "    for row_i, row in data_df.iterrows():\n",
    "        temp_c += 1\n",
    "\n",
    "        if start_date is not None:\n",
    "            start_date_time_obj = datetime.datetime.strptime(start_date, fmt)\n",
    "            print(row_i)\n",
    "            current_date_time_obj = datetime.datetime.strptime(str(row_i), fmt)\n",
    "\n",
    "            if current_date_time_obj < start_date_time_obj:\n",
    "                print('Skipping record of date ', str(current_date_time_obj), ' But looking for ',\n",
    "                      str(start_date_time_obj))\n",
    "                continue\n",
    "\n",
    "        total_sentiment_data_count = 0\n",
    "        pos_dict = dict()\n",
    "        neg_dict = dict()\n",
    "        \n",
    "        pos_total = 0\n",
    "        neg_total = 0\n",
    "        \n",
    "        for col_i in range(len(col)):\n",
    "            data = (str(row[col_i]))\n",
    "            # print('\\t', col_i)\n",
    "            if data == 'NaN':\n",
    "                continue\n",
    "\n",
    "            if simulate:\n",
    "                total_sentiment_data_count = 9\n",
    "            else:\n",
    "                ss = sid.polarity_scores(data)\n",
    "                pos_total += ss['pos']\n",
    "                neg_total += ss['neg']\n",
    "\n",
    "                total_sentiment_data_count += 1\n",
    "\n",
    "        print(str(row_i), ' ', temp_c)\n",
    "       \n",
    "\n",
    "        pos_dict[str(row_i)] = pos_total / total_sentiment_data_count\n",
    "        neg_dict[str(row_i)] = neg_total / total_sentiment_data_count\n",
    "        \n",
    "\n",
    "        sid_pos_df = pd.DataFrame.from_dict(sid_pos_dict, orient='index',\n",
    "                                            columns=['gnews_positifitas'])\n",
    "        sid_pos_df.index.name = 'timestamp'\n",
    "\n",
    "        sid_neg_df = pd.DataFrame.from_dict(sid_neg_dict, orient='index',\n",
    "                                            columns=['gnews_negatifitas'])\n",
    "        sid_neg_df.index.name = 'timestamp'\n",
    "\n",
    "        final_senti_df = pd.concat([pos_df, neg_df], axis=1)\n",
    "\n",
    "        if os.path.exists(output_filename):\n",
    "            keep_header = False\n",
    "        else:\n",
    "            keep_header = True\n",
    "\n",
    "        final_senti_df.to_csv(output_filename, mode='a', header=keep_header)\n",
    "\n",
    "    return\n"
   ]
  },
  {
   "cell_type": "code",
   "execution_count": null,
   "id": "growing-template",
   "metadata": {},
   "outputs": [],
   "source": [
    "if __name__ == \"__main__\":\n",
    "    input_filename = 'gnews_data.csv'\n",
    "    output_filename = input_filename[0:-4] + '_sentiment.csv'\n",
    "    get_sentiment_report(input_filename, output_filename)"
   ]
  },
  {
   "cell_type": "code",
   "execution_count": null,
   "id": "imported-reconstruction",
   "metadata": {},
   "outputs": [],
   "source": []
  }
 ],
 "metadata": {
  "kernelspec": {
   "display_name": "Python 3",
   "language": "python",
   "name": "python3"
  },
  "language_info": {
   "codemirror_mode": {
    "name": "ipython",
    "version": 3
   },
   "file_extension": ".py",
   "mimetype": "text/x-python",
   "name": "python",
   "nbconvert_exporter": "python",
   "pygments_lexer": "ipython3",
   "version": "3.8.5"
  }
 },
 "nbformat": 4,
 "nbformat_minor": 5
}
