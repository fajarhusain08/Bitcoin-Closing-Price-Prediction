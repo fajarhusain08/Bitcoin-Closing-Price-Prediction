{
 "cells": [
  {
   "cell_type": "code",
   "execution_count": 1,
   "id": "demonstrated-accident",
   "metadata": {},
   "outputs": [],
   "source": [
    "import pandas as pd\n",
    "import datetime\n",
    "from tzlocal import get_localzone\n",
    "import numpy\n",
    "import time\n",
    "from datetime import datetime as d"
   ]
  },
  {
   "cell_type": "code",
   "execution_count": 7,
   "id": "powered-volume",
   "metadata": {},
   "outputs": [],
   "source": [
    "BtcDF=pd.read_csv('Bitstamp_BTCUSD_1h.csv')\n",
    "BtcDF= BtcDF.iloc[313:14185,:]\n",
    "BtcDF['unix'].astype('int').astype(\"datetime64[s]\")\n",
    "BtcDF['date']=pd.to_datetime(BtcDF['date'], infer_datetime_format='%Y-%m-%d %H:%M:%S')\n",
    "BtcDF = BtcDF[['date','open', 'high', 'low', 'close', 'Volume BTC']]\n",
    "BtcDF.columns = ['timestamp', 'open_BTC', 'high_BTC', 'low_BTC', 'close_BTC', 'Volume_BTC']\n",
    "BtcDF.set_index('timestamp', inplace=True)\n",
    "BtcDF.isnull().values.any()\n",
    "BtcDF = BtcDF.rename_axis(\"timestamp\")\n",
    "BtcDF['unix'].astype('int').astype(\"datetime64[s]\")\n",
    "pd.set_option('float_format', '{:.2f}'.format)\n",
    "BtcDF.to_csv(r'D:\\1. COLLEGE THINGS\\Skripsi\\Dataset\\Crypto\\Bitstamp_BTCUSD_input_1h.csv')"
   ]
  },
  {
   "cell_type": "code",
   "execution_count": 8,
   "id": "refined-overhead",
   "metadata": {},
   "outputs": [],
   "source": [
    "#ETHUSDT\n",
    "EthDF=pd.read_csv('Bitstamp_ETHUSD_1h.csv')\n",
    "EthDF= EthDF.iloc[313:14185,:]\n",
    "btcdf['unix'].astype('int').astype(\"datetime64[s]\")\n",
    "EthDF['date']=pd.to_datetime(EthDF['date'], infer_datetime_format='%Y-%m-%d %H:%M:%S')\n",
    "EthDF = EthDF[['date', 'close', 'Volume ETH']]\n",
    "EthDF.columns = ['timestamp', 'close_ETH', 'Volume_ETH']\n",
    "EthDF.set_index('timestamp', inplace=True)\n",
    "EthDF.isnull().values.any()\n",
    "EthDF = EthDF.rename_axis(\"timestamp\")\n",
    "EthDF['unix'].astype('int').astype(\"datetime64[s]\")\n",
    "pd.set_option('float_format', '{:.2f}'.format)\n",
    "EthDF.to_csv(r'D:\\1. COLLEGE THINGS\\Skripsi\\Dataset\\Crypto\\Bitstamp_ETHUSD_input_1h.csv')"
   ]
  },
  {
   "cell_type": "code",
   "execution_count": 9,
   "id": "adapted-catering",
   "metadata": {},
   "outputs": [],
   "source": [
    "#LTCUSDT\n",
    "LtcDF=pd.read_csv('Bitstamp_LTCUSD_1h.csv')\n",
    "LtcDF= LtcDF.iloc[313:14185,:]\n",
    "LtcDF['unix'].astype('int').astype(\"datetime64[s]\")\n",
    "LtcDF['date']=pd.to_datetime(LtcDF['date'], infer_datetime_format='%Y-%m-%d %H:%M:%S')\n",
    "LtcDF = LtcDF[['date', 'close', 'Volume LTC']]\n",
    "LtcDF.columns=['timestamp', 'close_LTC', 'Volume_LTC']\n",
    "LtcDF.set_index('timestamp', inplace=True)\n",
    "LtcDF.isnull().values.any()\n",
    "LtcDF = LtcDF.rename_axis(\"timestamp\")\n",
    "LtcDF['unix'].astype('int').astype(\"datetime64[s]\")\n",
    "LtcDF.to_csv(r'D:\\1. COLLEGE THINGS\\Skripsi\\Dataset\\Crypto\\Bitstamp_LTCUSD_input_1h.csv')"
   ]
  },
  {
   "cell_type": "code",
   "execution_count": null,
   "id": "hired-stylus",
   "metadata": {},
   "outputs": [],
   "source": [
    "CryDF = pd.concat([BtcDF,EthDF, LtcDF], axis=1)\n",
    "CryDF= CryDF.values[::-1]\n",
    "CryDF= pd.DataFrame(CryDF)\n",
    "CryDF.columns= ['timestamp','open_BTC', 'high_BTC', 'low_BTC', 'close_BTC', 'Volume_BTC',\n",
    "       'close_ETH', 'Volume_ETH', 'close_LTC', 'Volume_LTC']\n",
    "CryDF.set_index('timestamp', inplace=True)\n",
    "CryDF.to_csv('CryData.csv')"
   ]
  }
 ],
 "metadata": {
  "kernelspec": {
   "display_name": "Python 3",
   "language": "python",
   "name": "python3"
  },
  "language_info": {
   "codemirror_mode": {
    "name": "ipython",
    "version": 3
   },
   "file_extension": ".py",
   "mimetype": "text/x-python",
   "name": "python",
   "nbconvert_exporter": "python",
   "pygments_lexer": "ipython3",
   "version": "3.8.5"
  }
 },
 "nbformat": 4,
 "nbformat_minor": 5
}
