{
 "cells": [
  {
   "cell_type": "code",
   "execution_count": 1,
   "id": "immune-interview",
   "metadata": {},
   "outputs": [],
   "source": [
    "import pandas as pd\n",
    "from datetime import datetime, timedelta"
   ]
  },
  {
   "cell_type": "code",
   "execution_count": 2,
   "id": "fabulous-charger",
   "metadata": {},
   "outputs": [],
   "source": [
    "def list_diff(list1, list2):\n",
    "    l1_l2 = []\n",
    "    l2_l1 = []\n",
    "    for ele in list1:\n",
    "        if not ele in list2:\n",
    "            l1_l2.append(ele)\n",
    "\n",
    "    for ele in list2:\n",
    "        if not ele in list1:\n",
    "            l2_l1.append(ele)\n",
    "\n",
    "    return l1_l2, l2_l1"
   ]
  },
  {
   "cell_type": "code",
   "execution_count": 3,
   "id": "earned-nigeria",
   "metadata": {},
   "outputs": [],
   "source": [
    "def merge_crypto_gnews_sentiment(crypto_data_filename, google_news_data_filename, output_data_filename):\n",
    "#     multiplikasi data gnews perhari menjadi perjam\n",
    "    crypto_df = pd.read_csv(crypto_data_filename, index_col=0)\n",
    "    crypto_df.index = pd.to_datetime(crypto_df.index)\n",
    "    news_df = pd.read_csv(google_news_data_filename, index_col=0)\n",
    "\n",
    "    ilist = [str(d) for d in news_df.index]\n",
    "    hr1 = timedelta(hours=1)\n",
    "    news_col = list(news_df.columns)\n",
    "    news_df_comb = pd.DataFrame(columns=news_col)\n",
    "\n",
    "    for ilist_index, ilist_item in enumerate(ilist):\n",
    "        dt = datetime.strptime(ilist_item, '%Y-%m-%d')\n",
    "        for hr_ in range(0, 24):\n",
    "            row_id_new = dt.strftime('%Y-%m-%d %H:00:00')\n",
    "            row_id_value = news_df.loc[ilist_item]\n",
    "            dt += hr1\n",
    "            news_df_comb.loc[row_id_new] = row_id_value\n",
    "    news_df_comb.index.name = 'timestamp'\n",
    "    news_df_comb.to_csv(google_news_data_filename[0:-4] + '_with_timestamp.csv')\n",
    "    news_df_comb1 = pd.read_csv(google_news_data_filename[0:-4] + '_with_timestamp.csv', index_col=0)\n",
    "    result = pd.concat([crypto_df, news_df_comb1], axis=1)\n",
    "    result.to_csv(output_data_filename)\n",
    "\n",
    "    return True"
   ]
  },
  {
   "cell_type": "code",
   "execution_count": 4,
   "id": "lucky-president",
   "metadata": {},
   "outputs": [],
   "source": [
    "def merge_crypto_gnews_twitter_sentiment(crypto_gnews_filename, twitter_data_filename, crypto_gnews_twitter_filename):\n",
    "    crypto_gnews_df = pd.read_csv(crypto_gnews_filename, index_col=0)\n",
    "    twitter_df = pd.read_csv(twitter_data_filename, index_col=0)\n",
    "    result = pd.concat([crypto_gnews_df, twitter_df], axis=1)\n",
    "    result.to_csv(crypto_gnews_twitter_filename)"
   ]
  },
  {
   "cell_type": "code",
   "execution_count": 5,
   "id": "eleven-terminal",
   "metadata": {},
   "outputs": [],
   "source": [
    "if __name__ == '__main__':\n",
    "    crypto_data_filename = ('crypto_data_cleaned.csv')\n",
    "    gnews_data_filename = ('gnews_data_sentiment.csv')\n",
    "    crypto_gnews_filename = ('crypto_news_data_final.csv')\n",
    "    twitter_data_filename = ('twitter_data_cleaned_sentiment_bucketized.csv')\n",
    "    crypto_gnews_twitter_filename = ('crypto_news_twitter_data_final.csv')\n",
    "    merge_crypto_gnews_sentiment(crypto_data_filename, gnews_data_filename, crypto_gnews_filename)\n",
    "    merge_crypto_gnews_twitter_sentiment(crypto_gnews_filename, twitter_data_filename, crypto_gnews_twitter_filename)"
   ]
  },
  {
   "cell_type": "code",
   "execution_count": null,
   "id": "designing-rocket",
   "metadata": {},
   "outputs": [],
   "source": []
  }
 ],
 "metadata": {
  "kernelspec": {
   "display_name": "Python 3",
   "language": "python",
   "name": "python3"
  },
  "language_info": {
   "codemirror_mode": {
    "name": "ipython",
    "version": 3
   },
   "file_extension": ".py",
   "mimetype": "text/x-python",
   "name": "python",
   "nbconvert_exporter": "python",
   "pygments_lexer": "ipython3",
   "version": "3.8.5"
  }
 },
 "nbformat": 4,
 "nbformat_minor": 5
}
